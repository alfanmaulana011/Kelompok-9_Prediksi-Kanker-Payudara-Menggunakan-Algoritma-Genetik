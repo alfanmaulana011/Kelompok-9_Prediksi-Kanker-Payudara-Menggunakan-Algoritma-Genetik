{
  "nbformat": 4,
  "nbformat_minor": 0,
  "metadata": {
    "colab": {
      "provenance": []
    },
    "kernelspec": {
      "name": "python3",
      "display_name": "Python 3"
    },
    "language_info": {
      "name": "python"
    }
  },
  "cells": [
    {
      "cell_type": "code",
      "execution_count": null,
      "metadata": {
        "id": "WCpZ8Ks_1uHR"
      },
      "outputs": [],
      "source": [
        "# Import libraries\n",
        "import pandas as pd\n",
        "import numpy as np\n",
        "from sklearn.model_selection import train_test_split\n",
        "from sklearn.ensemble import RandomForestClassifier\n",
        "from sklearn.metrics import precision_score\n",
        "import matplotlib.pyplot as plt"
      ]
    },
    {
      "cell_type": "code",
      "source": [
        "# Import data\n",
        "data = pd.read_csv(\"breast cancer.csv\")\n",
        "print(data.head())\n",
        "print(data.info())\n",
        "print(data[\"diagnosis\"].unique())\n"
      ],
      "metadata": {
        "colab": {
          "base_uri": "https://localhost:8080/"
        },
        "id": "p5r3YSnw2D4p",
        "outputId": "86313d17-c3d0-4e51-b20b-bf33fa816870"
      },
      "execution_count": null,
      "outputs": [
        {
          "output_type": "stream",
          "name": "stdout",
          "text": [
            "         id diagnosis  radius_mean  texture_mean  perimeter_mean  area_mean  \\\n",
            "0    842302         M        17.99         10.38          122.80     1001.0   \n",
            "1    842517         M        20.57         17.77          132.90     1326.0   \n",
            "2  84300903         M        19.69         21.25          130.00     1203.0   \n",
            "3  84348301         M        11.42         20.38           77.58      386.1   \n",
            "4  84358402         M        20.29         14.34          135.10     1297.0   \n",
            "\n",
            "   smoothness_mean  compactness_mean  concavity_mean  concave points_mean  \\\n",
            "0          0.11840           0.27760          0.3001              0.14710   \n",
            "1          0.08474           0.07864          0.0869              0.07017   \n",
            "2          0.10960           0.15990          0.1974              0.12790   \n",
            "3          0.14250           0.28390          0.2414              0.10520   \n",
            "4          0.10030           0.13280          0.1980              0.10430   \n",
            "\n",
            "   ...  texture_worst  perimeter_worst  area_worst  smoothness_worst  \\\n",
            "0  ...          17.33           184.60      2019.0            0.1622   \n",
            "1  ...          23.41           158.80      1956.0            0.1238   \n",
            "2  ...          25.53           152.50      1709.0            0.1444   \n",
            "3  ...          26.50            98.87       567.7            0.2098   \n",
            "4  ...          16.67           152.20      1575.0            0.1374   \n",
            "\n",
            "   compactness_worst  concavity_worst  concave points_worst  symmetry_worst  \\\n",
            "0             0.6656           0.7119                0.2654          0.4601   \n",
            "1             0.1866           0.2416                0.1860          0.2750   \n",
            "2             0.4245           0.4504                0.2430          0.3613   \n",
            "3             0.8663           0.6869                0.2575          0.6638   \n",
            "4             0.2050           0.4000                0.1625          0.2364   \n",
            "\n",
            "   fractal_dimension_worst  Unnamed: 32  \n",
            "0                  0.11890          NaN  \n",
            "1                  0.08902          NaN  \n",
            "2                  0.08758          NaN  \n",
            "3                  0.17300          NaN  \n",
            "4                  0.07678          NaN  \n",
            "\n",
            "[5 rows x 33 columns]\n",
            "<class 'pandas.core.frame.DataFrame'>\n",
            "RangeIndex: 569 entries, 0 to 568\n",
            "Data columns (total 33 columns):\n",
            " #   Column                   Non-Null Count  Dtype  \n",
            "---  ------                   --------------  -----  \n",
            " 0   id                       569 non-null    int64  \n",
            " 1   diagnosis                569 non-null    object \n",
            " 2   radius_mean              569 non-null    float64\n",
            " 3   texture_mean             569 non-null    float64\n",
            " 4   perimeter_mean           569 non-null    float64\n",
            " 5   area_mean                569 non-null    float64\n",
            " 6   smoothness_mean          569 non-null    float64\n",
            " 7   compactness_mean         569 non-null    float64\n",
            " 8   concavity_mean           569 non-null    float64\n",
            " 9   concave points_mean      569 non-null    float64\n",
            " 10  symmetry_mean            569 non-null    float64\n",
            " 11  fractal_dimension_mean   569 non-null    float64\n",
            " 12  radius_se                569 non-null    float64\n",
            " 13  texture_se               569 non-null    float64\n",
            " 14  perimeter_se             569 non-null    float64\n",
            " 15  area_se                  569 non-null    float64\n",
            " 16  smoothness_se            569 non-null    float64\n",
            " 17  compactness_se           569 non-null    float64\n",
            " 18  concavity_se             569 non-null    float64\n",
            " 19  concave points_se        569 non-null    float64\n",
            " 20  symmetry_se              569 non-null    float64\n",
            " 21  fractal_dimension_se     569 non-null    float64\n",
            " 22  radius_worst             569 non-null    float64\n",
            " 23  texture_worst            569 non-null    float64\n",
            " 24  perimeter_worst          569 non-null    float64\n",
            " 25  area_worst               569 non-null    float64\n",
            " 26  smoothness_worst         569 non-null    float64\n",
            " 27  compactness_worst        569 non-null    float64\n",
            " 28  concavity_worst          569 non-null    float64\n",
            " 29  concave points_worst     569 non-null    float64\n",
            " 30  symmetry_worst           569 non-null    float64\n",
            " 31  fractal_dimension_worst  569 non-null    float64\n",
            " 32  Unnamed: 32              0 non-null      float64\n",
            "dtypes: float64(31), int64(1), object(1)\n",
            "memory usage: 146.8+ KB\n",
            "None\n",
            "['M' 'B']\n"
          ]
        }
      ]
    },
    {
      "cell_type": "code",
      "source": [
        "# Extract calssification target\n",
        "target = data.loc[:, \"diagnosis\"]\n",
        "# Convert the target variable to a binary representation (0 or 1)\n",
        "target = (target == \"M\").astype(int)\n",
        "# Extract all other columns except 'diagnosis' as predictors\n",
        "data_predictors = data.loc[:, data.columns != 'diagnosis']\n",
        "# Create a list of predictor names\n",
        "predictor_names = data_predictors.columns"
      ],
      "metadata": {
        "id": "Mjmkn8G32kL9"
      },
      "execution_count": null,
      "outputs": []
    },
    {
      "cell_type": "code",
      "source": [
        "# Split data\n",
        "x_train, x_test, y_train, y_test = train_test_split(data_predictors, target, test_size=0.3,random_state=0)"
      ],
      "metadata": {
        "id": "TdrCN6b42pBU"
      },
      "execution_count": null,
      "outputs": []
    },
    {
      "cell_type": "code",
      "source": [
        "def generate_random_individuals(population_size, num_features, min_features, max_features):\n",
        "    individuals = np.zeros((population_size, num_features))\n",
        "    for i in range(population_size):\n",
        "        num_ones = np.random.randint(min_features, max_features+1)\n",
        "        ones_indices = np.random.choice(num_features, num_ones, replace=False)\n",
        "        individuals[i, ones_indices] = 1\n",
        "    return individuals"
      ],
      "metadata": {
        "id": "ofOjIO9J2rrw"
      },
      "execution_count": null,
      "outputs": []
    },
    {
      "cell_type": "code",
      "source": [
        "# 2.& 3.: Train model and get precision\n",
        "def train_model(x_train, x_test, y_train, y_test, predictor_names):\n",
        "    x_train = x_train.loc[:, predictor_names]\n",
        "    x_test = x_test.loc[:, predictor_names]\n",
        "\n",
        "    #Building the random forest model\n",
        "    mdl = RandomForestClassifier(random_state=1) #Creating the Random Forest Classifier Model\n",
        "    mdl.fit(x_train, y_train)                    #Training the Model with x_train & y_train\n",
        "    y_hat = mdl.predict(x_test)                  #Predicting the x_test\n",
        "    prec = precision_score(y_test, y_hat)        #Precision: The best value is 1 and the worst value is 0.\n",
        "    return prec"
      ],
      "metadata": {
        "id": "Nl6UCoRg2y9c"
      },
      "execution_count": null,
      "outputs": []
    },
    {
      "cell_type": "code",
      "source": [
        "def choose_parents(population,accuracy,elite_percent):\n",
        "    # Get elite of top 2 which doesn't mutate\n",
        "    elite_num = int(round(((elite_percent*population.shape[0]) // 2) * 2))\n",
        "    ind_ac = np.argsort(-accuracy)\n",
        "    top_perc = ind_ac[:elite_num]\n",
        "    elite_population = population[top_perc,:]   # We should keep this elite\n",
        "\n",
        "    # Normalize accuracy to obtain weights for roulette wheel selection\n",
        "    weight_norm = accuracy / accuracy.sum()     # calculate normalised weight from accuracy\n",
        "    weight_comu = weight_norm.cumsum()          # calc cumulative weight from accuracy\n",
        "\n",
        "    # Roulette wheel selection\n",
        "    num_parents_wo_elite = population.shape[0] - elite_num\n",
        "    parents_wo_elite = np.empty([num_parents_wo_elite,population.shape[1]])\n",
        "    for count in range(num_parents_wo_elite):\n",
        "        b = weight_comu[-1]                         # current last element of weight_comu\n",
        "        rand_num = np.random.uniform(0,b)         # random foating-point number btw 0 and current max weight_comu\n",
        "\n",
        "        indices = np.searchsorted(weight_comu,rand_num) # get indices of the number in weight_comu greater than rand_num\n",
        "        parents_wo_elite[count,:] = population[indices, :]\n",
        "\n",
        "    parents = np.concatenate((elite_population, parents_wo_elite), axis=0)  # Concatenate elite and parents_wo_elite to get all parents\n",
        "    return parents"
      ],
      "metadata": {
        "id": "8eAVkAHC21Bt"
      },
      "execution_count": null,
      "outputs": []
    },
    {
      "cell_type": "code",
      "source": [
        "def one_point_crossover(parents,elite_percent,mutation_probability,min_features, max_features):\n",
        "    elite_num = int(round(((elite_percent*population.shape[0]) // 2) * 2))\n",
        "    crossover_population = np.zeros((parents.shape[0],parents.shape[1]))         # first two are elite\n",
        "    crossover_population[0:elite_num,:] = parents[0:elite_num,:]\n",
        "\n",
        "    for ii in range(int((parents.shape[0]-elite_num)/2)):\n",
        "        n = 2*ii+elite_num                    # gives even number\n",
        "        parents_couple = parents[n:n+2, :]    # comb of parents\n",
        "        b2 = parents.shape[1]                 # num of features\n",
        "        rand_n = np.random.randint(1, b2-1)   # generate rand number from 1 to num_of_features-1\n",
        "        crossover_population[n,:] = np.concatenate([parents_couple[0, :rand_n], parents_couple[1, rand_n:]])\n",
        "        crossover_population[n+1,:] = np.concatenate([parents_couple[1, :rand_n], parents_couple[0, rand_n:]])\n",
        "\n",
        "    #check if every child has minimum number of features or all true values\n",
        "    for kk in range(crossover_population.shape[0]):\n",
        "        Sum = np.sum(crossover_population[kk,:])\n",
        "        if Sum > max_features:\n",
        "            # if the number of 1s is bigger than max number of features\n",
        "            excess = int(Sum - max_features)\n",
        "            indices = np.where(crossover_population[kk,:] == 1)[0]\n",
        "            position1 = np.random.choice(indices, size=excess, replace=False)\n",
        "            crossover_population[kk, position1] = 0 # put 0s in random positions\n",
        "        elif Sum < min_features:\n",
        "            # if the number of 1s is smaller than min number of features\n",
        "            missing = int(min_features - Sum)\n",
        "            indices = np.where(crossover_population[kk,:] == 0)[0]\n",
        "            position2 = np.random.choice(indices, size=missing, replace=False)\n",
        "            crossover_population[kk, position2] = 1 # put 1s in random positions\n",
        "\n",
        "    # mutation\n",
        "    child_row = crossover_population.shape[0]\n",
        "    child_col = crossover_population.shape[1]\n",
        "    num_mutations = round(child_row*child_col*mutation_probability)\n",
        "    for jj in range(num_mutations):\n",
        "        ind_row = np.random.randint(0,child_row) # random number btw 0 and num of rows\n",
        "        ind_col = np.random.randint(0,child_col) # random number btw 0 and num of colmns\n",
        "        if (crossover_population[ind_row,ind_col] == 0 and\n",
        "            np.sum(crossover_population[ind_row,:]) < max_features):\n",
        "            crossover_population[ind_row,ind_col] = 1\n",
        "        elif (crossover_population[ind_row,ind_col] == 1 and\n",
        "              np.sum(crossover_population[ind_row,:]) >= min_features+1):\n",
        "            crossover_population[ind_row,ind_col] = 0\n",
        "\n",
        "    return crossover_population"
      ],
      "metadata": {
        "id": "tmwgpTxT29qx"
      },
      "execution_count": null,
      "outputs": []
    },
    {
      "cell_type": "code",
      "source": [
        "# Hyperparameters\n",
        "num_features = data_predictors.shape[1]\n",
        "min_features = 2            # minimal number of features in a subset of features\n",
        "population_size = 8         # size of population (number of instances)\n",
        "max_iterations = 8          # maximum number of iterations\n",
        "elite_percent = 0.4         # percentage of elite population which doesn't mutate\n",
        "mutation_probability = 0.2  # percentage of total genes that mutate\n",
        "max_features = 4            # maximum number of features in a subset of features"
      ],
      "metadata": {
        "id": "5rcCgcoF3T_Z"
      },
      "execution_count": null,
      "outputs": []
    },
    {
      "cell_type": "code",
      "source": [
        "# Main loop - gen 0\n",
        "#1&2 generate population\n",
        "population = generate_random_individuals(population_size, num_features, min_features, max_features)\n",
        "#3&4 train model\n",
        "accuracy = np.zeros(population_size);\n",
        "predictor_names = data_predictors.columns\n",
        "response_name = target.name\n",
        "for i in range(population_size):\n",
        "    predictor_names_i = predictor_names[population[i,:]==1]\n",
        "    accuracy_i = train_model(x_train,x_test,y_train,y_test,predictor_names_i)\n",
        "    accuracy[i] = accuracy_i\n",
        "gen = 0\n",
        "best_acc_i = np.zeros(max_iterations)\n",
        "best_acc_i[gen] = max(accuracy)     # keep best accuracy from 1st gen"
      ],
      "metadata": {
        "id": "VUGfaI6L3ZRU"
      },
      "execution_count": null,
      "outputs": []
    },
    {
      "cell_type": "code",
      "source": [
        "# Main loop - gen > 0\n",
        "while gen < max_iterations-1:\n",
        "    print('Begin iteration num {}/{}'.format(gen+2,max_iterations))\n",
        "    gen += 1\n",
        "    parents = choose_parents(population, accuracy, elite_percent)\n",
        "    children = one_point_crossover(parents,elite_percent,mutation_probability,min_features,max_features)\n",
        "    population = children\n",
        "    for ind in range(population_size):\n",
        "        predictor_names_ind = predictor_names[population[ind,:]==1]\n",
        "        accuracy_ind = train_model(x_train,x_test,y_train,y_test,predictor_names_ind)\n",
        "        accuracy[ind] = accuracy_ind\n",
        "    best_acc_i[gen] = max(accuracy)\n",
        "\n",
        "ind_max_acc = np.argmax(accuracy)\n",
        "best_features = population[ind_max_acc,:]"
      ],
      "metadata": {
        "colab": {
          "base_uri": "https://localhost:8080/"
        },
        "id": "18Czljxa3m9u",
        "outputId": "92e3902b-e176-4ad8-b58a-1170308c5c48"
      },
      "execution_count": null,
      "outputs": [
        {
          "output_type": "stream",
          "name": "stdout",
          "text": [
            "Begin iteration num 5/8\n",
            "Begin iteration num 6/8\n",
            "Begin iteration num 7/8\n",
            "Begin iteration num 8/8\n"
          ]
        }
      ]
    },
    {
      "cell_type": "code",
      "source": [
        "# Plots - Post-processing\n",
        "best_features_names = predictor_names[best_features==1]\n",
        "plt.plot(range(1, max_iterations + 1), best_acc_i)\n",
        "plt.xlabel('Number of generations')\n",
        "plt.ylabel('Best accuracy')\n",
        "plt.title('Genetic algorithm')\n",
        "plt.show()"
      ],
      "metadata": {
        "colab": {
          "base_uri": "https://localhost:8080/",
          "height": 472
        },
        "id": "rvdaoIlI3-eC",
        "outputId": "15cdec8e-2d7a-4572-a1ec-20b5025ccc94"
      },
      "execution_count": null,
      "outputs": [
        {
          "output_type": "display_data",
          "data": {
            "text/plain": [
              "<Figure size 640x480 with 1 Axes>"
            ],
            "image/png": "[encoded data removed]"
          },
          "metadata": {}
        }
      ]
    }
  ]
}